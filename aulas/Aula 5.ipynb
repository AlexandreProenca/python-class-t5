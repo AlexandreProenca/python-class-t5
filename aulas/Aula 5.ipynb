{
 "cells": [
  {
   "cell_type": "markdown",
   "metadata": {},
   "source": [
    "Funções em Python\n",
    "--------------\n",
    "\n",
    "Uma função é um bloco de código que só será executada quando chamado, as função podem receber valores (parâmetros) e podem ou não retornar valores.\n",
    "\n",
    "Declaração\n",
    "\n",
    "Para declarar uma função em Python utilizamos a palavra reservada **def**, para definir o nome da função, toda função possue uma assinatura.\n",
    "\n",
    "Ex:"
   ]
  },
  {
   "cell_type": "code",
   "execution_count": 2,
   "metadata": {},
   "outputs": [
    {
     "name": "stdout",
     "output_type": "stream",
     "text": [
      "5.428571428571429\n"
     ]
    }
   ],
   "source": [
    "def media(notas):\n",
    "    notas = [float(num) for num in notas.split()]\n",
    "    print(sum(notas)/len(notas))\n",
    "    \n",
    "\n",
    "notas = '2 3 4 5 6 8 10'\n",
    "\n",
    "media(notas)"
   ]
  },
  {
   "cell_type": "markdown",
   "metadata": {},
   "source": [
    "### Retorno de uma função\n",
    "\n",
    "Uma função pode ou não retornar um valor, quando ela não retorna um valor chamamos de **void**\n",
    "Ex:"
   ]
  },
  {
   "cell_type": "code",
   "execution_count": 6,
   "metadata": {},
   "outputs": [
    {
     "name": "stdout",
     "output_type": "stream",
     "text": [
      "bom dia Alexandre\n",
      "None\n"
     ]
    }
   ],
   "source": [
    "def comprimento(nome):\n",
    "    print(f'bom dia {nome}')\n",
    "\n",
    "v = comprimento('Alexandre')\n",
    "print(v)"
   ]
  },
  {
   "cell_type": "code",
   "execution_count": 11,
   "metadata": {},
   "outputs": [
    {
     "name": "stdout",
     "output_type": "stream",
     "text": [
      "bom dia Professor\n"
     ]
    }
   ],
   "source": [
    "def comprimento(nome):\n",
    "    return f'bom dia {nome}'\n",
    "    \n",
    "retorno = comprimento('Professor')\n",
    "print(retorno)"
   ]
  },
  {
   "cell_type": "markdown",
   "metadata": {},
   "source": [
    "### Parametros de uma função\n",
    "Uma função pode ou nao receber valores\n",
    "\n",
    "Ex:"
   ]
  },
  {
   "cell_type": "code",
   "execution_count": 22,
   "metadata": {},
   "outputs": [
    {
     "name": "stdout",
     "output_type": "stream",
     "text": [
      "5\n"
     ]
    }
   ],
   "source": [
    "def soma():\n",
    "    return 2 + 2\n",
    "\n",
    "def soma(n1, n2):\n",
    "    return n1 + n2\n",
    "\n",
    "def soma(*numeros):\n",
    "    return sum(numeros)\n",
    "\n",
    "def soma(*numeros):\n",
    "    return numeros[0] + numeros[1]\n",
    "\n",
    "resultado = soma(2,3)\n",
    "print(resultado)"
   ]
  },
  {
   "cell_type": "markdown",
   "metadata": {},
   "source": [
    "**Obs: as funções declaradas no mesmo escopo não fazem sobrecarga, o que vai valer será sempre a ultima função declarada**"
   ]
  },
  {
   "cell_type": "markdown",
   "metadata": {},
   "source": [
    "\n",
    "As funções em Python como na máioria das linguagens de alto nível podem receber funções por parametro:\n",
    "Ex:"
   ]
  },
  {
   "cell_type": "code",
   "execution_count": 41,
   "metadata": {},
   "outputs": [
    {
     "name": "stdout",
     "output_type": "stream",
     "text": [
      "executando função soma\n",
      "argumentos  (3, 5)\n",
      "8\n"
     ]
    }
   ],
   "source": [
    "def executa(func, *args):\n",
    "    print(f'executando função {func.__name__}')\n",
    "    print('argumentos ',args)\n",
    "    return func(*args)\n",
    "\n",
    "\n",
    "def soma(n1, n2):\n",
    "    return n1 + n2\n",
    "    \n",
    "def subtrai(n1, n2):\n",
    "    return n1 - n2\n",
    "\n",
    "retorno = executa(soma, 3, 5)\n",
    "print(retorno)"
   ]
  },
  {
   "cell_type": "code",
   "execution_count": 40,
   "metadata": {},
   "outputs": [
    {
     "name": "stdout",
     "output_type": "stream",
     "text": [
      "executando função subtrai\n",
      "argumentos  {'n1': 3, 'n2': 5}\n",
      "-2\n"
     ]
    }
   ],
   "source": [
    "def executa(func, **kwargs):\n",
    "    print(f'executando função {func.__name__}')\n",
    "    print('argumentos ',kwargs)\n",
    "    return func(**kwargs)\n",
    "\n",
    "\n",
    "def soma(n1, n2):\n",
    "    return n1 + n2\n",
    "    \n",
    "def subtrai(n1, n2):\n",
    "    return n1 - n2\n",
    "\n",
    "retorno = executa(subtrai, n1=3, n2=5)\n",
    "print(retorno)"
   ]
  },
  {
   "cell_type": "markdown",
   "metadata": {},
   "source": [
    "### Funções encadeadas\n",
    "\n",
    "Em Python é possivel declarar funções dentro de funções, respeitando o escopo de cada função, a prioridade de escopo sempre vem da mais interna pra mais externa.\n",
    "\n",
    "Ex:"
   ]
  },
  {
   "cell_type": "code",
   "execution_count": 29,
   "metadata": {
    "scrolled": true
   },
   "outputs": [
    {
     "name": "stdout",
     "output_type": "stream",
     "text": [
      "Ola nome: alexandre proença!\n"
     ]
    }
   ],
   "source": [
    "def saudacao(nome, sobrenome):\n",
    "    \n",
    "    def nome_completo(nome, sobrenome):\n",
    "        return f'nome: {nome} {sobrenome}'\n",
    "    \n",
    "    def mensagem(nome):\n",
    "        return f'Ola {nome}!'\n",
    "    \n",
    "    nome_pessoa = nome_completo(nome, sobrenome)\n",
    "    return mensagem(nome_pessoa)\n",
    "\n",
    "resposta = saudacao('alexandre','proença')\n",
    "print(resposta)"
   ]
  },
  {
   "cell_type": "markdown",
   "metadata": {},
   "source": [
    "\n",
    "Exercicio 01\n",
    "\n",
    "Faça um programa que receba uma lista de N números inteiros, positivos, e menores que 100 e retorne a média geométrica\n",
    "\n",
    "![media geometrica](https://www.infoenem.com.br/wp-content/uploads/2016/11/media_geometrica.png)\n",
    "![media geometrica](https://upload.wikimedia.org/wikipedia/commons/thumb/9/9f/M%C3%A9dia-Geom%C3%A9trica.gif/220px-M%C3%A9dia-Geom%C3%A9trica.gif)"
   ]
  },
  {
   "cell_type": "code",
   "execution_count": 8,
   "metadata": {},
   "outputs": [
    {
     "name": "stdout",
     "output_type": "stream",
     "text": [
      "4\n"
     ]
    }
   ],
   "source": [
    "\n",
    "def calcular_media_geometrica(n1, n2, n3):\n",
    "    return (n1 * n2 * n3) ** (1/3)\n",
    "\n",
    "resultado = calcular_media_geometrica(2,4,8)\n",
    "print(round(resultado))"
   ]
  },
  {
   "cell_type": "code",
   "execution_count": null,
   "metadata": {},
   "outputs": [],
   "source": []
  },
  {
   "cell_type": "markdown",
   "metadata": {},
   "source": [
    "Exercicio 02\n",
    "\n",
    "Faça uma função que receba uma lista de N números inteiros, positivos, e menores que 100 e retorne a média hârmonica\n",
    "        \n",
    "\n",
    "![harminica](https://www.professorferretto.com.br/wp-content/uploads/2019/05/formula-da-media-harmonica.png)\n",
    "![exemplo](https://www.infoenem.com.br/wp-content/uploads/2016/11/media_harmonica1.png)"
   ]
  },
  {
   "cell_type": "code",
   "execution_count": 16,
   "metadata": {},
   "outputs": [
    {
     "name": "stdout",
     "output_type": "stream",
     "text": [
      "1.6363636363636365\n"
     ]
    }
   ],
   "source": [
    "\n",
    "def calcular_media_harmonica(lista):\n",
    "    inverso = 0\n",
    "    for numero in lista:\n",
    "        inverso += 1/numero\n",
    "        \n",
    "    return len(lista)/inverso\n",
    "\n",
    "resultado = calcular_media_harmonica([1,2,3])\n",
    "print(resultado)"
   ]
  },
  {
   "cell_type": "markdown",
   "metadata": {},
   "source": [
    "Exercicio 03\n",
    "\n",
    "A cifra de César é um tipo de criptografia que era uma das maneiras de manter a informação confidencial a anos atrás e tem este nome em razão de Júlio César que utilizou deste meio para se comunicar com seus generais. O método é muito simples e consiste em um método de substituição onde uma letra do alfabeto é substituída por outra, essa contagem de deslocamento de letras do abecedário tem o nome de rotação.\n",
    "![cifra](https://miro.medium.com/max/1600/0*u7zInYDnXTcvJwzC.jpg)\n",
    "\n",
    "Desenvolva 2 funções, uma capaz de encriptar uma string e uma capaz de decriptar a string encriptada, usando a cifra de César."
   ]
  },
  {
   "cell_type": "code",
   "execution_count": 19,
   "metadata": {},
   "outputs": [
    {
     "name": "stdout",
     "output_type": "stream",
     "text": [
      "{'a': 'd', 'b': 'e', 'c': 'f', 'd': 'g', 'e': 'h', 'f': 'i', 'g': 'j', 'h': 'k', 'i': 'l', 'j': 'm', 'k': 'n', 'l': 'o', 'm': 'p', 'n': 'q', 'o': 'r', 'p': 's', 'q': 't', 'r': 'u', 's': 'v', 't': 'w', 'u': 'x', 'v': 'y', 'w': 'z', 'x': 'a', 'y': 'b', 'z': 'c'}\n"
     ]
    }
   ],
   "source": [
    "import string\n",
    "\n",
    "lista = string.ascii_lowercase\n",
    "\n",
    "tradutor = {k:v for k,v in zip(lista, lista[3:])}\n",
    "tradutor['x'] = 'a'\n",
    "tradutor['y'] = 'b'\n",
    "tradutor['z'] = 'c'\n",
    "\n",
    "print(tradutor)"
   ]
  },
  {
   "cell_type": "code",
   "execution_count": 39,
   "metadata": {},
   "outputs": [],
   "source": [
    "def encriptar(frase):\n",
    "    resp = ''\n",
    "    for letra in frase:\n",
    "        resp += tradutor[letra]\n",
    "    return resp"
   ]
  },
  {
   "cell_type": "code",
   "execution_count": 40,
   "metadata": {
    "scrolled": true
   },
   "outputs": [
    {
     "data": {
      "text/plain": [
       "'dohadqguh'"
      ]
     },
     "execution_count": 40,
     "metadata": {},
     "output_type": "execute_result"
    }
   ],
   "source": [
    "encriptar('alexandre')"
   ]
  },
  {
   "cell_type": "code",
   "execution_count": 28,
   "metadata": {},
   "outputs": [
    {
     "data": {
      "text/plain": [
       "'alexandre'"
      ]
     },
     "execution_count": 28,
     "metadata": {},
     "output_type": "execute_result"
    }
   ],
   "source": [
    "def decriptar(frase):\n",
    "    lista = []\n",
    "    t = {v:k for k,v in tradutor.items()}\n",
    "    for letra in frase:\n",
    "        lista.append(t[letra])\n",
    "    return ''.join(lista)\n",
    "\n",
    "decriptar('dohadqguh')"
   ]
  },
  {
   "cell_type": "code",
   "execution_count": null,
   "metadata": {},
   "outputs": [],
   "source": []
  },
  {
   "cell_type": "markdown",
   "metadata": {},
   "source": [
    "Funções anônimas\n",
    "----------------\n",
    "\n",
    "Uma função anônima é uma função que podemos declarar sem a palavra reservada **def** por isso a nomenclatura anônima, utilizamos a palavra reservada **lambda** para declarar uma função anônima.\n",
    "\n",
    "Syntax \n",
    "\n",
    "       lambda arguments : expression\n",
    "\n",
    "Ex:"
   ]
  },
  {
   "cell_type": "code",
   "execution_count": 42,
   "metadata": {},
   "outputs": [
    {
     "data": {
      "text/plain": [
       "12"
      ]
     },
     "execution_count": 42,
     "metadata": {},
     "output_type": "execute_result"
    }
   ],
   "source": [
    "soma = lambda n1, n2: n1 + n2\n",
    "\n",
    "soma(9, 3)"
   ]
  },
  {
   "cell_type": "code",
   "execution_count": 57,
   "metadata": {},
   "outputs": [
    {
     "name": "stdout",
     "output_type": "stream",
     "text": [
      "factory_func\n",
      "<lambda>\n",
      "9\n"
     ]
    }
   ],
   "source": [
    "def factory_func(op):\n",
    "    if op == 'somar':\n",
    "        return lambda a, b : a + b\n",
    "    elif op == 'subtrair':\n",
    "        return lambda a, b : a - b\n",
    "    elif op == 'dividir':\n",
    "        return lambda a, b : a / b\n",
    "    elif op == 'multiplicar':\n",
    "        return lambda a, b : a * b\n",
    "\n",
    "\n",
    "func = factory_func('somar')\n",
    "print(factory_func.__name__)\n",
    "print(func.__name__)\n",
    "print(func(4, 5))"
   ]
  },
  {
   "cell_type": "markdown",
   "metadata": {},
   "source": [
    "### Funções recursivas\n",
    "\n"
   ]
  },
  {
   "cell_type": "code",
   "execution_count": 59,
   "metadata": {
    "scrolled": true
   },
   "outputs": [
    {
     "name": "stdout",
     "output_type": "stream",
     "text": [
      "5\n",
      "4\n",
      "3\n",
      "2\n",
      "1\n",
      "Decolar!\n"
     ]
    }
   ],
   "source": [
    "def contagemRegressiva(n):\n",
    "    if n == 0:\n",
    "        print('Decolar!')\n",
    "    else:\n",
    "        print(n)\n",
    "        contagemRegressiva(n-1)\n",
    "\n",
    "contagemRegressiva(5)"
   ]
  },
  {
   "cell_type": "code",
   "execution_count": 163,
   "metadata": {},
   "outputs": [
    {
     "name": "stdout",
     "output_type": "stream",
     "text": [
      "128\n"
     ]
    }
   ],
   "source": [
    "def potencia(num, exp):\n",
    "    if exp == 1: # Condição de saída do recursão\n",
    "        return 1 # Retorna um valor ao invéz de chamar a função\n",
    "    else:\n",
    "        return potencia(num, exp - 1) * num # Bloco de codigo que vai se repetir até atingir a condição para sair da recursão\n",
    "\n",
    "retorno = potencia(num=2,exp=8)\n",
    "print(retorno)"
   ]
  },
  {
   "cell_type": "code",
   "execution_count": 198,
   "metadata": {},
   "outputs": [
    {
     "name": "stdout",
     "output_type": "stream",
     "text": [
      "5040\n"
     ]
    }
   ],
   "source": [
    "num = 2\n",
    "exp = 8\n",
    "result = 1\n",
    "for i in range(num, exp):\n",
    "    result *= i\n",
    "    \n",
    "else:\n",
    "    print(result)\n"
   ]
  }
 ],
 "metadata": {
  "kernelspec": {
   "display_name": "Python 3",
   "language": "python",
   "name": "python3"
  },
  "language_info": {
   "codemirror_mode": {
    "name": "ipython",
    "version": 3
   },
   "file_extension": ".py",
   "mimetype": "text/x-python",
   "name": "python",
   "nbconvert_exporter": "python",
   "pygments_lexer": "ipython3",
   "version": "3.7.4"
  }
 },
 "nbformat": 4,
 "nbformat_minor": 2
}
