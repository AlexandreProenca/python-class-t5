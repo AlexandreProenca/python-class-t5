{
 "cells": [
  {
   "cell_type": "markdown",
   "metadata": {},
   "source": [
    "Python Exceptions\n",
    "---------------\n",
    "\n",
    "Um programa Python termina assim que encontra um erro. No Python, um erro pode ser um erro de sintaxe ou uma exceção. Nesta aula, você verá o que é uma exceção e como ela difere de um erro de sintaxe. Depois disso, você aprenderá sobre como criar exceções e fazer afirmações. Em seguida, você termina com uma demonstração da tentativa e exceto o bloco.\n",
    "\n"
   ]
  },
  {
   "cell_type": "markdown",
   "metadata": {},
   "source": [
    "Exceptions versus Syntax Errors\n",
    "----------------\n",
    "Erros de sintaxe ocorrem quando o interpretador detecta uma instrução incorreta. Observe o seguinte exemplo:"
   ]
  },
  {
   "cell_type": "code",
   "execution_count": 15,
   "metadata": {},
   "outputs": [
    {
     "ename": "ZeroDivisionError",
     "evalue": "division by zero",
     "output_type": "error",
     "traceback": [
      "\u001b[0;31m---------------------------------------------------------------------------\u001b[0m",
      "\u001b[0;31mZeroDivisionError\u001b[0m                         Traceback (most recent call last)",
      "\u001b[0;32m<ipython-input-15-5448f8573e8f>\u001b[0m in \u001b[0;36m<module>\u001b[0;34m\u001b[0m\n\u001b[0;32m----> 1\u001b[0;31m \u001b[0mprint\u001b[0m\u001b[0;34m(\u001b[0m \u001b[0;36m0\u001b[0m \u001b[0;34m/\u001b[0m \u001b[0;36m0\u001b[0m \u001b[0;34m)\u001b[0m\u001b[0;34m\u001b[0m\u001b[0;34m\u001b[0m\u001b[0m\n\u001b[0m\u001b[1;32m      2\u001b[0m \u001b[0mprint\u001b[0m\u001b[0;34m(\u001b[0m\u001b[0;34m'erro'\u001b[0m\u001b[0;34m)\u001b[0m\u001b[0;34m\u001b[0m\u001b[0;34m\u001b[0m\u001b[0m\n",
      "\u001b[0;31mZeroDivisionError\u001b[0m: division by zero"
     ]
    }
   ],
   "source": [
    "print( 0 / 0 )\n",
    "print('erro')"
   ]
  },
  {
   "cell_type": "markdown",
   "metadata": {},
   "source": [
    "Desta vez, você encontrou um erro de exceção. Esse tipo de erro ocorre sempre que o código \n",
    "Python sintaticamente correto resultar em um erro. A última linha da mensagem indica em que tipo de erro de \n",
    "exceção você se deparou.\n",
    "\n",
    "Em vez de mostrar o erro de exceção da mensagem, o Python detalha que tipo de erro de exceção foi encontrado. \n",
    "Nesse caso, era um ZeroDivisionError. O Python vem com várias exceções internas, bem como a possibilidade de \n",
    "criar exceções auto-definidas."
   ]
  },
  {
   "cell_type": "markdown",
   "metadata": {},
   "source": [
    "![except](https://files.realpython.com/media/intro.8915db1758d8.png)"
   ]
  },
  {
   "cell_type": "markdown",
   "metadata": {},
   "source": [
    "![raise](https://files.realpython.com/media/raise.3931e8819e08.png)"
   ]
  },
  {
   "cell_type": "markdown",
   "metadata": {},
   "source": [
    "Se você deseja gerar um erro quando uma determinada condição ocorre usando raise, você pode fazer o seguinte:"
   ]
  },
  {
   "cell_type": "code",
   "execution_count": 16,
   "metadata": {},
   "outputs": [
    {
     "ename": "Exception",
     "evalue": "x should not exceed 5. The value of x was: 10",
     "output_type": "error",
     "traceback": [
      "\u001b[0;31m---------------------------------------------------------------------------\u001b[0m",
      "\u001b[0;31mException\u001b[0m                                 Traceback (most recent call last)",
      "\u001b[0;32m<ipython-input-16-3dcc1a597936>\u001b[0m in \u001b[0;36m<module>\u001b[0;34m\u001b[0m\n\u001b[1;32m      1\u001b[0m \u001b[0mx\u001b[0m \u001b[0;34m=\u001b[0m \u001b[0;36m10\u001b[0m\u001b[0;34m\u001b[0m\u001b[0;34m\u001b[0m\u001b[0m\n\u001b[1;32m      2\u001b[0m \u001b[0;32mif\u001b[0m \u001b[0mx\u001b[0m \u001b[0;34m>\u001b[0m \u001b[0;36m5\u001b[0m\u001b[0;34m:\u001b[0m\u001b[0;34m\u001b[0m\u001b[0;34m\u001b[0m\u001b[0m\n\u001b[0;32m----> 3\u001b[0;31m     \u001b[0;32mraise\u001b[0m \u001b[0mException\u001b[0m\u001b[0;34m(\u001b[0m\u001b[0;34m'x should not exceed 5. The value of x was: {}'\u001b[0m\u001b[0;34m.\u001b[0m\u001b[0mformat\u001b[0m\u001b[0;34m(\u001b[0m\u001b[0mx\u001b[0m\u001b[0;34m)\u001b[0m\u001b[0;34m)\u001b[0m\u001b[0;34m\u001b[0m\u001b[0;34m\u001b[0m\u001b[0m\n\u001b[0m",
      "\u001b[0;31mException\u001b[0m: x should not exceed 5. The value of x was: 10"
     ]
    }
   ],
   "source": [
    "x = 10\n",
    "if x > 5:\n",
    "    raise Exception('x should not exceed 5. The value of x was: {}'.format(x))"
   ]
  },
  {
   "cell_type": "markdown",
   "metadata": {},
   "source": [
    "The AssertionError Exception\n",
    "-------------------\n",
    "\n",
    "Em vez de esperar por um programa travar no meio do caminho, você também pode começar fazendo uma afirmação no Python. Afirmamos que uma determinada condição é atendida. Se essa condição for verdadeira, isso é excelente! O programa pode continuar. Se a condição for False, o programa lançará uma exceção AssertionError."
   ]
  },
  {
   "cell_type": "markdown",
   "metadata": {},
   "source": [
    "![asset](https://files.realpython.com/media/assert.f6d344f0c0b4.png)"
   ]
  },
  {
   "cell_type": "code",
   "execution_count": 30,
   "metadata": {},
   "outputs": [
    {
     "name": "stdout",
     "output_type": "stream",
     "text": [
      "4600515792\n",
      "4598802704\n"
     ]
    },
    {
     "ename": "AssertionError",
     "evalue": "This code runs on Linux only.",
     "output_type": "error",
     "traceback": [
      "\u001b[0;31m---------------------------------------------------------------------------\u001b[0m",
      "\u001b[0;31mAssertionError\u001b[0m                            Traceback (most recent call last)",
      "\u001b[0;32m<ipython-input-30-df3688a48293>\u001b[0m in \u001b[0;36m<module>\u001b[0;34m\u001b[0m\n\u001b[1;32m      4\u001b[0m \u001b[0mprint\u001b[0m\u001b[0;34m(\u001b[0m\u001b[0mid\u001b[0m\u001b[0;34m(\u001b[0m\u001b[0mnome\u001b[0m\u001b[0;34m)\u001b[0m\u001b[0;34m)\u001b[0m\u001b[0;34m\u001b[0m\u001b[0;34m\u001b[0m\u001b[0m\n\u001b[1;32m      5\u001b[0m \u001b[0mprint\u001b[0m\u001b[0;34m(\u001b[0m\u001b[0mid\u001b[0m\u001b[0;34m(\u001b[0m\u001b[0mcarro\u001b[0m\u001b[0;34m)\u001b[0m\u001b[0;34m)\u001b[0m\u001b[0;34m\u001b[0m\u001b[0;34m\u001b[0m\u001b[0m\n\u001b[0;32m----> 6\u001b[0;31m \u001b[0;32massert\u001b[0m \u001b[0;34m(\u001b[0m\u001b[0mnome\u001b[0m \u001b[0;34m!=\u001b[0m \u001b[0mcarro\u001b[0m \u001b[0;34m)\u001b[0m\u001b[0;34m,\u001b[0m \u001b[0;34m\"This code runs on Linux only.\"\u001b[0m\u001b[0;34m\u001b[0m\u001b[0;34m\u001b[0m\u001b[0m\n\u001b[0m\u001b[1;32m      7\u001b[0m \u001b[0;34m\u001b[0m\u001b[0m\n\u001b[1;32m      8\u001b[0m \u001b[0;34m\u001b[0m\u001b[0m\n",
      "\u001b[0;31mAssertionError\u001b[0m: This code runs on Linux only."
     ]
    }
   ],
   "source": [
    "import sys\n",
    "nome = (\"paulo\",)\n",
    "carro = (\"paulo\", )\n",
    "print(id(nome))\n",
    "print(id(carro))\n",
    "assert (nome != carro ), \"This code runs on Linux only.\"\n",
    "\n",
    "\n",
    "if nome != carro:\n",
    "    print(\"This code runs on Linux only.\")"
   ]
  },
  {
   "cell_type": "markdown",
   "metadata": {},
   "source": [
    "The try and except Block: Gerenciando Exceptions\n",
    "-------------\n",
    "O bloco try e except em Python é usado para capturar e manipular exceções. Python executa o código após a instrução try como uma parte \"normal\" do programa. O código que segue a instrução exceto é a resposta do programa a quaisquer exceções na cláusula try anterior.\n"
   ]
  },
  {
   "cell_type": "markdown",
   "metadata": {},
   "source": [
    "![Try](https://files.realpython.com/media/try_except.c94eabed2c59.png)"
   ]
  },
  {
   "cell_type": "code",
   "execution_count": 50,
   "metadata": {},
   "outputs": [
    {
     "name": "stdout",
     "output_type": "stream",
     "text": [
      "Não é possivel fazer divisão por zero\n"
     ]
    }
   ],
   "source": [
    "\n",
    "try:\n",
    "    print(a)\n",
    "except:\n",
    "    print(\"Não é possivel fazer divisão por zero\")\n",
    "    \n"
   ]
  },
  {
   "cell_type": "code",
   "execution_count": 67,
   "metadata": {},
   "outputs": [
    {
     "name": "stdout",
     "output_type": "stream",
     "text": [
      "Essa chave não existe\n"
     ]
    }
   ],
   "source": [
    "agenda = {'nome': 'alexandre'}\n",
    "try:\n",
    "    a = agenda['hey']\n",
    "except AssertionError:\n",
    "    print(\"Não é possivel fazer divisão por zero\")\n",
    "except KeyError:\n",
    "    print(\"Essa chave não existe\")"
   ]
  },
  {
   "cell_type": "markdown",
   "metadata": {},
   "source": [
    "![try completo](https://files.realpython.com/media/try_except_else_finally.a7fac6c36c55.png)"
   ]
  },
  {
   "cell_type": "code",
   "execution_count": 60,
   "metadata": {},
   "outputs": [
    {
     "name": "stdout",
     "output_type": "stream",
     "text": [
      "That's ok\n"
     ]
    }
   ],
   "source": [
    "agenda = {'nome': 'alexandre'}\n",
    "try:\n",
    "    a = agenda['nome']\n",
    "except AssertionError:\n",
    "    print(\"Não é possivel fazer divisão por zero\")\n",
    "except KeyError:\n",
    "    print(\"Essa chave não existe\")\n",
    "else:\n",
    "    print(\"That's ok\")"
   ]
  },
  {
   "cell_type": "code",
   "execution_count": 70,
   "metadata": {},
   "outputs": [
    {
     "name": "stdout",
     "output_type": "stream",
     "text": [
      "Essa chave não existe\n",
      "Acabou!\n"
     ]
    }
   ],
   "source": [
    "agenda = {'nome': 'alexandre'}\n",
    "try:\n",
    "    a = agenda['sky']\n",
    "except AssertionError:\n",
    "    print(\"Não é possivel fazer divisão por zero\")\n",
    "except KeyError:\n",
    "    print(\"Essa chave não existe\")\n",
    "else:\n",
    "    print(\"That's ok\")\n",
    "finally:\n",
    "    print(\"Acabou!\")"
   ]
  },
  {
   "cell_type": "markdown",
   "metadata": {},
   "source": [
    "https://docs.python.org/3/library/exceptions.html"
   ]
  },
  {
   "cell_type": "markdown",
   "metadata": {},
   "source": [
    "Reading and Writing Files in Python\n",
    "----------\n",
    "Uma das tarefas mais comuns que você pode executar com o Python é ler e gravar arquivos. Seja gravando em um arquivo de texto simples, lendo um log complicado do servidor ou analisando dados brutos de bytes, todas essas situações exigem a leitura ou gravação de um arquivo."
   ]
  },
  {
   "cell_type": "code",
   "execution_count": null,
   "metadata": {},
   "outputs": [],
   "source": []
  }
 ],
 "metadata": {
  "kernelspec": {
   "display_name": "Python 3",
   "language": "python",
   "name": "python3"
  },
  "language_info": {
   "codemirror_mode": {
    "name": "ipython",
    "version": 3
   },
   "file_extension": ".py",
   "mimetype": "text/x-python",
   "name": "python",
   "nbconvert_exporter": "python",
   "pygments_lexer": "ipython3",
   "version": "3.7.4"
  }
 },
 "nbformat": 4,
 "nbformat_minor": 2
}
