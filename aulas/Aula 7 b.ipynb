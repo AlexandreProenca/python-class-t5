{
 "cells": [
  {
   "cell_type": "markdown",
   "metadata": {},
   "source": [
    "Módulos e Pacotes em Python\n",
    "------\n",
    "Breve explicação de como a coisa toda funciona\n",
    "\n",
    "    Um script Python é considerado como Módulo (veja o final do artigo uma definição mais formal)\n",
    "    Um diretório (pasta) é indicado como pacote quando este conta com a presença do arquivo __init__.py\n",
    "    Um pacote pode conter vários outros módulos, chamamos de submódulos.\n",
    "    Ao criarmos um pacote, além de organizarmos nosso programa, temos a possibilidade de importarmos os módulos de forma bastante flexível. "
   ]
  }
 ],
 "metadata": {
  "kernelspec": {
   "display_name": "Python 3",
   "language": "python",
   "name": "python3"
  },
  "language_info": {
   "codemirror_mode": {
    "name": "ipython",
    "version": 3
   },
   "file_extension": ".py",
   "mimetype": "text/x-python",
   "name": "python",
   "nbconvert_exporter": "python",
   "pygments_lexer": "ipython3",
   "version": "3.7.4"
  }
 },
 "nbformat": 4,
 "nbformat_minor": 2
}
